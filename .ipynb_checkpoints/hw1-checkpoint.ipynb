{
 "cells": [
  {
   "cell_type": "markdown",
   "metadata": {},
   "source": [
    "**Общая информация**\n",
    "\n",
    "**Срок сдачи:** 18 октября 2017, 06:00 <br\\>\n",
    "**Штраф за опоздание:** -2 балла после 06:00 18 октября, -4 балла после 06:00 25 октября, -6 баллов после 06:00 1 ноября\n",
    "\n",
    "При отправлении ДЗ указывайте фамилию в названии файла\n",
    "Присылать ДЗ необходимо в виде ссылки на свой github репозиторий в slack @alkhamush\n",
    "\n",
    "Необходимо в slack создать таск в приватный чат:\n",
    "/todo Фамилия Имя ссылка на гитхаб @alkhamush\n",
    "Пример:\n",
    "/todo Ксения Стройкова https://github.com/stroykova/spheremailru/stroykova_hw1.ipynb @alkhamush\n",
    "Дополнительно нужно просто скинуть ссылку в slack в личный чат\n",
    "\n",
    "Используйте данный Ipython Notebook при оформлении домашнего задания."
   ]
  },
  {
   "cell_type": "markdown",
   "metadata": {},
   "source": [
    "###### Задание 1 (2 баллов)\n",
    "Реализовать KNN в классе MyKNeighborsClassifier (обязательное условие: точность не ниже sklearn реализации)\n",
    "Разберитесь самостоятельно, какая мера расстояния используется в KNeighborsClassifier дефолтно и реализуйте свой алгоритм именно с этой мерой. Самостоятельно разберитесь, как считается score из KNeighborsClassifier и реализуйте аналог в своём классе. Score не должен уступать значению KNN из sklearn\n",
    "\n",
    "###### Задание 2 (2 балла)\n",
    "Добиться скорости работы на fit,  predict и predict_proba сравнимой со sklearn для iris и mnist\n",
    "Для этого используем numpy\n",
    "\n",
    "###### Задание 3 (2 балла)\n",
    "Для iris найдите такой параметр n_neighbors, при котором выдаётся наилучший score. Нарисуйте график зависимости score от n_neighbors\n",
    "\n",
    "###### Задание 4 (3 балла)\n",
    "Добавить algorithm='kd_tree' в реализацию KNN (использовать KDTree из sklearn.neighbors). Значение n_neighbors нужно взять из задания 3. Добиться скорости работы на fit,  predict и predict_proba сравнимой со sklearn для iris и mnist\n",
    "Для этого используем numpy. Score не должен уступать значению KNN из sklearn\n",
    "\n",
    "###### Задание 5 (1 балла)\n",
    "Описать для чего нужны следующие библиотеки/классы/функции (список будет ниже)\n",
    "\n",
    "**Штрафные баллы:**\n",
    "\n",
    "1. Невыполнение PEP8 -1 балл\n",
    "2. Отсутствие фамилии в имени скрипта (скрипт должен называться по аналогии со stroykova_hw1.ipynb) -1 балл\n",
    "3. Все строчки должны быть выполнены. Нужно, чтобы output команды можно было увидеть уже в git'е. В противном случае -1 балл\n",
    "4. При оформлении ДЗ нужно пользоваться данным файлом в качестве шаблона. Не нужно удалять и видоизменять структуру кода и текст. В противном случае -1 балл\n"
   ]
  },
  {
   "cell_type": "code",
   "execution_count": 1,
   "metadata": {},
   "outputs": [],
   "source": [
    "import numpy as np\n",
    "import matplotlib.pyplot as plt\n",
    "\n",
    "import seaborn as sns\n",
    "from sklearn import datasets\n",
    "from sklearn.base import ClassifierMixin\n",
    "from sklearn.datasets import fetch_mldata\n",
    "from sklearn.neighbors.base import NeighborsBase, KNeighborsMixin, SupervisedIntegerMixin \n",
    "from sklearn.model_selection import train_test_split\n",
    "from sklearn.neighbors import KNeighborsClassifier\n",
    "from sklearn.metrics.pairwise import pairwise_distances\n",
    "from sklearn.neighbors import KDTree\n",
    "%load_ext pycodestyle_magic"
   ]
  },
  {
   "cell_type": "code",
   "execution_count": 70,
   "metadata": {},
   "outputs": [],
   "source": [
    "#%%pycodestyle\n",
    "\n",
    "\n",
    "class MyKNeighborsClassifier(NeighborsBase, KNeighborsMixin,\n",
    "                             SupervisedIntegerMixin, ClassifierMixin):\n",
    "\n",
    "    def __init__(self, n_neighbors, algorithm='brute'):\n",
    "        self.n = n_neighbors\n",
    "        self.algorithm = algorithm\n",
    "\n",
    "    def fit(self, X, y):\n",
    "        if self.algorithm == 'brute':\n",
    "            self.X = np.array(X)\n",
    "        else:\n",
    "            self.X = KDTree(X)\n",
    "        self.y = np.array(y).astype(int)\n",
    "        self.c_n = len(np.unique(y))\n",
    "\n",
    "    def predict(self, X):\n",
    "        classes = self.get_neighbors_classes(X)\n",
    "        return np.apply_along_axis(lambda c: np.argmax(np.bincount(c)),\n",
    "                                   1, classes)\n",
    "\n",
    "    def predict_proba(self, X):\n",
    "        classes = self.get_neighbors_classes(X)\n",
    "        return np.apply_along_axis(lambda c:\n",
    "                                   np.bincount(c, minlength=self.c_n) /\n",
    "                                   self.n,\n",
    "                                   1, classes)\n",
    "\n",
    "    def score(self, X, y):\n",
    "        return np.mean(self.predict(X) == y)\n",
    "\n",
    "    def get_neighbors_classes(self, X):\n",
    "        if self.algorithm == 'brute':\n",
    "            dists = pairwise_distances(X, self.X)\n",
    "            ind = np.apply_along_axis(lambda x:\n",
    "                                      np.argpartition(x, self.n)[:self.n],\n",
    "                                      1, dists)\n",
    "            return self.y[ind]\n",
    "        else:\n",
    "            dist, ind = self.X.query(X, k=self.n)\n",
    "            return self.y[ind]"
   ]
  },
  {
   "cell_type": "code",
   "execution_count": 81,
   "metadata": {},
   "outputs": [],
   "source": [
    "iris = datasets.load_iris()"
   ]
  },
  {
   "cell_type": "code",
   "execution_count": 82,
   "metadata": {},
   "outputs": [],
   "source": [
    "X_train, X_test, y_train, y_test = train_test_split(iris.data, iris.target, test_size=0.1, stratify=iris.target)"
   ]
  },
  {
   "cell_type": "code",
   "execution_count": 83,
   "metadata": {},
   "outputs": [],
   "source": [
    "clf = KNeighborsClassifier(n_neighbors=2, algorithm='brute')\n",
    "my_clf = MyKNeighborsClassifier(n_neighbors=2)"
   ]
  },
  {
   "cell_type": "code",
   "execution_count": 84,
   "metadata": {},
   "outputs": [
    {
     "name": "stdout",
     "output_type": "stream",
     "text": [
      "CPU times: user 3.77 ms, sys: 0 ns, total: 3.77 ms\n",
      "Wall time: 2.8 ms\n"
     ]
    },
    {
     "data": {
      "text/plain": [
       "KNeighborsClassifier(algorithm='brute', leaf_size=30, metric='minkowski',\n",
       "           metric_params=None, n_jobs=None, n_neighbors=2, p=2,\n",
       "           weights='uniform')"
      ]
     },
     "execution_count": 84,
     "metadata": {},
     "output_type": "execute_result"
    }
   ],
   "source": [
    "%time clf.fit(X_train, y_train)"
   ]
  },
  {
   "cell_type": "code",
   "execution_count": 85,
   "metadata": {},
   "outputs": [
    {
     "name": "stdout",
     "output_type": "stream",
     "text": [
      "CPU times: user 216 µs, sys: 2 µs, total: 218 µs\n",
      "Wall time: 378 µs\n"
     ]
    }
   ],
   "source": [
    "%time my_clf.fit(X_train, y_train)"
   ]
  },
  {
   "cell_type": "code",
   "execution_count": 86,
   "metadata": {},
   "outputs": [
    {
     "name": "stdout",
     "output_type": "stream",
     "text": [
      "CPU times: user 3.56 ms, sys: 0 ns, total: 3.56 ms\n",
      "Wall time: 2.54 ms\n"
     ]
    },
    {
     "data": {
      "text/plain": [
       "array([1, 0, 1, 0, 1, 1, 0, 2, 2, 2, 2, 0, 2, 0, 1])"
      ]
     },
     "execution_count": 86,
     "metadata": {},
     "output_type": "execute_result"
    }
   ],
   "source": [
    "%time clf.predict(X_test)"
   ]
  },
  {
   "cell_type": "code",
   "execution_count": 87,
   "metadata": {},
   "outputs": [
    {
     "name": "stdout",
     "output_type": "stream",
     "text": [
      "CPU times: user 4.46 ms, sys: 14 µs, total: 4.47 ms\n",
      "Wall time: 3.1 ms\n"
     ]
    },
    {
     "data": {
      "text/plain": [
       "array([1, 0, 1, 0, 1, 1, 0, 2, 2, 2, 2, 0, 2, 0, 1])"
      ]
     },
     "execution_count": 87,
     "metadata": {},
     "output_type": "execute_result"
    }
   ],
   "source": [
    "%time my_clf.predict(X_test)"
   ]
  },
  {
   "cell_type": "code",
   "execution_count": 88,
   "metadata": {},
   "outputs": [
    {
     "name": "stdout",
     "output_type": "stream",
     "text": [
      "CPU times: user 1.2 ms, sys: 3.98 ms, total: 5.18 ms\n",
      "Wall time: 4.28 ms\n"
     ]
    },
    {
     "data": {
      "text/plain": [
       "array([[0., 1., 0.],\n",
       "       [1., 0., 0.],\n",
       "       [0., 1., 0.],\n",
       "       [1., 0., 0.],\n",
       "       [0., 1., 0.],\n",
       "       [0., 1., 0.],\n",
       "       [1., 0., 0.],\n",
       "       [0., 0., 1.],\n",
       "       [0., 0., 1.],\n",
       "       [0., 0., 1.],\n",
       "       [0., 0., 1.],\n",
       "       [1., 0., 0.],\n",
       "       [0., 0., 1.],\n",
       "       [1., 0., 0.],\n",
       "       [0., 1., 0.]])"
      ]
     },
     "execution_count": 88,
     "metadata": {},
     "output_type": "execute_result"
    }
   ],
   "source": [
    "%time clf.predict_proba(X_test)"
   ]
  },
  {
   "cell_type": "code",
   "execution_count": 89,
   "metadata": {},
   "outputs": [
    {
     "name": "stdout",
     "output_type": "stream",
     "text": [
      "CPU times: user 471 µs, sys: 3.97 ms, total: 4.45 ms\n",
      "Wall time: 6.38 ms\n"
     ]
    },
    {
     "data": {
      "text/plain": [
       "array([[0., 1., 0.],\n",
       "       [1., 0., 0.],\n",
       "       [0., 1., 0.],\n",
       "       [1., 0., 0.],\n",
       "       [0., 1., 0.],\n",
       "       [0., 1., 0.],\n",
       "       [1., 0., 0.],\n",
       "       [0., 0., 1.],\n",
       "       [0., 0., 1.],\n",
       "       [0., 0., 1.],\n",
       "       [0., 0., 1.],\n",
       "       [1., 0., 0.],\n",
       "       [0., 0., 1.],\n",
       "       [1., 0., 0.],\n",
       "       [0., 1., 0.]])"
      ]
     },
     "execution_count": 89,
     "metadata": {},
     "output_type": "execute_result"
    }
   ],
   "source": [
    "%time my_clf.predict_proba(X_test)"
   ]
  },
  {
   "cell_type": "code",
   "execution_count": 90,
   "metadata": {},
   "outputs": [
    {
     "data": {
      "text/plain": [
       "1.0"
      ]
     },
     "execution_count": 90,
     "metadata": {},
     "output_type": "execute_result"
    }
   ],
   "source": [
    "clf.score(X_test, y_test)"
   ]
  },
  {
   "cell_type": "code",
   "execution_count": 91,
   "metadata": {},
   "outputs": [
    {
     "data": {
      "text/plain": [
       "1.0"
      ]
     },
     "execution_count": 91,
     "metadata": {},
     "output_type": "execute_result"
    }
   ],
   "source": [
    "my_clf.score(X_test, y_test)"
   ]
  },
  {
   "cell_type": "markdown",
   "metadata": {},
   "source": [
    "Задание 3"
   ]
  },
  {
   "cell_type": "code",
   "execution_count": 92,
   "metadata": {},
   "outputs": [
    {
     "name": "stdout",
     "output_type": "stream",
     "text": [
      "18\n"
     ]
    },
    {
     "data": {
      "image/png": "[encoded data removed]",
      "text/plain": [
       "<Figure size 432x288 with 1 Axes>"
      ]
     },
     "metadata": {
      "needs_background": "light"
     },
     "output_type": "display_data"
    }
   ],
   "source": [
    "max_neighbors = 50\n",
    "tests = 100\n",
    "scores = []\n",
    "\n",
    "for i in range(1, max_neighbors):\n",
    "    testing_scores = []\n",
    "    my_clf = MyKNeighborsClassifier(i)\n",
    "    for j in range(tests):\n",
    "        X_train, X_test, y_train, y_test = train_test_split(iris.data, iris.target, test_size=0.1, stratify=iris.target)                \n",
    "        my_clf.fit(X_train, y_train)\n",
    "        testing_scores.append(my_clf.score(X_test, y_test))\n",
    "    scores.append(np.mean(testing_scores))\n",
    "    \n",
    "print(np.argmax(scores) + 1)\n",
    "\n",
    "plt.plot(range(1, max_neighbors), scores, 'd--')\n",
    "plt.show()"
   ]
  },
  {
   "cell_type": "markdown",
   "metadata": {},
   "source": [
    "**MNIST**"
   ]
  },
  {
   "cell_type": "code",
   "execution_count": 93,
   "metadata": {},
   "outputs": [
    {
     "name": "stderr",
     "output_type": "stream",
     "text": [
      "/usr/local/lib/python3.7/site-packages/sklearn/utils/deprecation.py:77: DeprecationWarning: Function fetch_mldata is deprecated; fetch_mldata was deprecated in version 0.20 and will be removed in version 0.22\n",
      "  warnings.warn(msg, category=DeprecationWarning)\n",
      "/usr/local/lib/python3.7/site-packages/sklearn/utils/deprecation.py:77: DeprecationWarning: Function mldata_filename is deprecated; mldata_filename was deprecated in version 0.20 and will be removed in version 0.22\n",
      "  warnings.warn(msg, category=DeprecationWarning)\n"
     ]
    }
   ],
   "source": [
    "mnist = datasets.fetch_mldata('MNIST original')"
   ]
  },
  {
   "cell_type": "code",
   "execution_count": 94,
   "metadata": {},
   "outputs": [],
   "source": [
    "X_train, X_test, y_train, y_test = train_test_split(mnist.data, mnist.target, test_size=0.01, stratify=mnist.target)"
   ]
  },
  {
   "cell_type": "code",
   "execution_count": 95,
   "metadata": {},
   "outputs": [],
   "source": [
    "clf = KNeighborsClassifier(n_neighbors=2, algorithm='brute')\n",
    "my_clf = MyKNeighborsClassifier(n_neighbors=2)"
   ]
  },
  {
   "cell_type": "code",
   "execution_count": 96,
   "metadata": {},
   "outputs": [
    {
     "name": "stdout",
     "output_type": "stream",
     "text": [
      "CPU times: user 9.38 ms, sys: 2 µs, total: 9.39 ms\n",
      "Wall time: 8.18 ms\n"
     ]
    },
    {
     "data": {
      "text/plain": [
       "KNeighborsClassifier(algorithm='brute', leaf_size=30, metric='minkowski',\n",
       "           metric_params=None, n_jobs=None, n_neighbors=2, p=2,\n",
       "           weights='uniform')"
      ]
     },
     "execution_count": 96,
     "metadata": {},
     "output_type": "execute_result"
    }
   ],
   "source": [
    "%time clf.fit(X_train, y_train)"
   ]
  },
  {
   "cell_type": "code",
   "execution_count": 97,
   "metadata": {},
   "outputs": [
    {
     "name": "stdout",
     "output_type": "stream",
     "text": [
      "CPU times: user 21.5 ms, sys: 12 ms, total: 33.5 ms\n",
      "Wall time: 32.2 ms\n"
     ]
    }
   ],
   "source": [
    "%time my_clf.fit(X_train, y_train)"
   ]
  },
  {
   "cell_type": "code",
   "execution_count": 98,
   "metadata": {},
   "outputs": [
    {
     "name": "stdout",
     "output_type": "stream",
     "text": [
      "CPU times: user 4.97 s, sys: 636 ms, total: 5.61 s\n",
      "Wall time: 1.97 s\n"
     ]
    },
    {
     "data": {
      "text/plain": [
       "array([6., 7., 2., 4., 2., 8., 2., 7., 2., 5., 8., 6., 9., 8., 6., 9., 6.,\n",
       "       6., 0., 3., 6., 1., 1., 5., 1., 6., 3., 0., 8., 7., 1., 1., 6., 9.,\n",
       "       5., 6., 5., 2., 1., 4., 6., 8., 6., 4., 8., 9., 0., 9., 1., 1., 1.,\n",
       "       9., 9., 0., 9., 1., 8., 0., 0., 5., 6., 8., 1., 8., 4., 9., 9., 7.,\n",
       "       4., 7., 6., 4., 6., 7., 0., 2., 6., 9., 1., 1., 6., 0., 1., 7., 5.,\n",
       "       6., 1., 0., 0., 6., 4., 6., 8., 5., 5., 6., 0., 7., 1., 9., 0., 2.,\n",
       "       7., 7., 0., 6., 1., 9., 4., 9., 9., 3., 7., 5., 3., 3., 4., 8., 7.,\n",
       "       4., 4., 2., 3., 5., 4., 1., 7., 7., 4., 9., 1., 6., 3., 1., 2., 3.,\n",
       "       5., 4., 0., 1., 3., 5., 1., 6., 2., 6., 0., 6., 9., 5., 8., 3., 6.,\n",
       "       3., 0., 9., 8., 5., 0., 7., 3., 6., 8., 4., 2., 4., 9., 4., 8., 2.,\n",
       "       9., 6., 3., 1., 0., 0., 3., 3., 7., 0., 9., 5., 7., 5., 7., 1., 1.,\n",
       "       2., 3., 8., 1., 6., 9., 1., 0., 1., 4., 3., 3., 5., 2., 6., 4., 7.,\n",
       "       3., 4., 8., 5., 2., 4., 5., 1., 6., 9., 8., 2., 4., 4., 1., 4., 0.,\n",
       "       9., 3., 6., 3., 4., 6., 6., 1., 3., 4., 7., 5., 1., 3., 4., 2., 7.,\n",
       "       5., 0., 9., 7., 2., 3., 8., 8., 6., 0., 0., 6., 7., 9., 1., 2., 8.,\n",
       "       1., 9., 3., 1., 1., 4., 7., 6., 9., 0., 1., 1., 1., 8., 9., 8., 0.,\n",
       "       3., 2., 1., 3., 5., 3., 0., 2., 4., 6., 9., 6., 4., 9., 3., 3., 9.,\n",
       "       4., 0., 1., 8., 2., 3., 8., 7., 7., 7., 5., 7., 1., 6., 5., 3., 1.,\n",
       "       9., 0., 0., 0., 7., 2., 6., 4., 6., 3., 0., 4., 4., 4., 4., 9., 2.,\n",
       "       2., 1., 6., 0., 0., 0., 8., 0., 2., 7., 8., 5., 1., 7., 9., 6., 4.,\n",
       "       0., 9., 2., 6., 2., 4., 8., 3., 2., 9., 7., 7., 7., 9., 9., 7., 3.,\n",
       "       9., 6., 3., 9., 2., 1., 8., 2., 8., 5., 9., 3., 2., 5., 2., 3., 5.,\n",
       "       3., 6., 2., 9., 4., 8., 4., 5., 9., 7., 0., 8., 2., 9., 8., 8., 0.,\n",
       "       9., 4., 4., 1., 5., 1., 4., 8., 7., 3., 3., 0., 0., 5., 4., 8., 5.,\n",
       "       7., 0., 0., 6., 3., 6., 0., 9., 5., 7., 0., 4., 1., 3., 7., 0., 3.,\n",
       "       4., 9., 3., 2., 3., 9., 2., 2., 5., 6., 8., 2., 4., 1., 4., 6., 4.,\n",
       "       2., 0., 7., 8., 2., 5., 0., 6., 1., 1., 7., 1., 6., 1., 5., 1., 8.,\n",
       "       6., 6., 7., 6., 3., 3., 1., 5., 9., 3., 1., 8., 7., 3., 7., 3., 0.,\n",
       "       8., 8., 0., 7., 3., 1., 5., 3., 0., 0., 1., 5., 7., 8., 7., 7., 0.,\n",
       "       9., 9., 0., 2., 4., 4., 7., 4., 1., 3., 4., 7., 3., 7., 5., 5., 1.,\n",
       "       6., 4., 3., 7., 8., 2., 2., 4., 6., 8., 1., 0., 9., 1., 7., 0., 6.,\n",
       "       8., 5., 3., 1., 7., 5., 4., 7., 2., 0., 7., 2., 1., 4., 8., 5., 0.,\n",
       "       8., 1., 4., 2., 4., 2., 3., 1., 4., 0., 2., 8., 6., 6., 3., 8., 2.,\n",
       "       7., 8., 9., 3., 7., 5., 7., 8., 2., 1., 1., 2., 9., 4., 9., 5., 7.,\n",
       "       7., 5., 2., 1., 9., 9., 5., 2., 6., 0., 0., 3., 4., 4., 3., 3., 1.,\n",
       "       5., 3., 4., 9., 6., 7., 9., 2., 0., 4., 2., 8., 3., 8., 3., 4., 9.,\n",
       "       0., 2., 0., 5., 4., 8., 7., 4., 6., 5., 3., 1., 5., 7., 9., 0., 7.,\n",
       "       1., 2., 0., 5., 5., 4., 1., 2., 2., 9., 8., 1., 0., 7., 0., 2., 1.,\n",
       "       8., 7., 2., 0., 7., 3., 1., 1., 6., 2., 4., 8., 2., 1., 5., 5., 8.,\n",
       "       2., 6., 9., 3., 3., 0., 9., 7., 3., 3., 7., 2., 9., 3., 1., 1., 3.,\n",
       "       6., 2., 4., 0., 5., 7., 5., 4., 3., 4., 9., 1., 2., 6., 9., 6., 1.,\n",
       "       2., 2., 2.])"
      ]
     },
     "execution_count": 98,
     "metadata": {},
     "output_type": "execute_result"
    }
   ],
   "source": [
    "%time clf.predict(X_test)"
   ]
  },
  {
   "cell_type": "code",
   "execution_count": 99,
   "metadata": {},
   "outputs": [
    {
     "name": "stdout",
     "output_type": "stream",
     "text": [
      "CPU times: user 5.18 s, sys: 476 ms, total: 5.65 s\n",
      "Wall time: 1.96 s\n"
     ]
    },
    {
     "data": {
      "text/plain": [
       "array([6, 7, 2, 4, 2, 8, 2, 7, 2, 5, 8, 6, 9, 8, 6, 9, 6, 6, 0, 3, 6, 1,\n",
       "       1, 5, 1, 6, 3, 0, 8, 7, 1, 1, 6, 9, 5, 6, 5, 2, 1, 4, 6, 8, 6, 4,\n",
       "       8, 9, 0, 9, 1, 1, 1, 9, 9, 0, 9, 1, 8, 0, 0, 5, 6, 8, 1, 8, 4, 9,\n",
       "       9, 7, 4, 7, 6, 4, 6, 7, 0, 2, 6, 9, 1, 1, 6, 0, 1, 7, 5, 6, 1, 0,\n",
       "       0, 6, 4, 6, 8, 5, 5, 6, 0, 7, 1, 9, 0, 2, 7, 7, 0, 6, 1, 9, 4, 9,\n",
       "       9, 3, 7, 5, 3, 3, 4, 8, 7, 4, 4, 2, 3, 5, 4, 1, 7, 7, 4, 9, 1, 6,\n",
       "       3, 1, 2, 3, 5, 4, 0, 1, 3, 5, 1, 6, 2, 6, 0, 6, 9, 5, 8, 3, 6, 3,\n",
       "       0, 9, 8, 5, 0, 7, 3, 6, 8, 4, 2, 4, 9, 4, 8, 2, 9, 6, 3, 1, 0, 0,\n",
       "       3, 3, 7, 0, 9, 5, 7, 5, 7, 1, 1, 2, 3, 8, 1, 6, 9, 1, 0, 1, 4, 3,\n",
       "       3, 5, 2, 6, 4, 7, 3, 4, 8, 5, 2, 4, 5, 1, 6, 9, 8, 2, 4, 4, 1, 4,\n",
       "       0, 9, 3, 6, 3, 4, 6, 6, 1, 3, 4, 7, 5, 1, 3, 4, 2, 7, 5, 0, 9, 7,\n",
       "       2, 3, 8, 8, 6, 0, 0, 6, 7, 9, 1, 2, 8, 1, 9, 3, 1, 1, 4, 7, 6, 9,\n",
       "       0, 1, 1, 1, 8, 9, 8, 0, 3, 2, 1, 3, 5, 3, 0, 2, 4, 6, 9, 6, 4, 9,\n",
       "       3, 3, 9, 4, 0, 1, 8, 2, 3, 8, 7, 7, 7, 5, 7, 1, 6, 5, 3, 1, 9, 0,\n",
       "       0, 0, 7, 2, 6, 4, 6, 3, 0, 4, 4, 4, 4, 9, 2, 2, 1, 6, 0, 0, 0, 8,\n",
       "       0, 2, 7, 8, 5, 1, 7, 9, 6, 4, 0, 9, 2, 6, 2, 4, 8, 3, 2, 9, 7, 7,\n",
       "       7, 9, 9, 7, 3, 9, 6, 3, 9, 2, 1, 8, 2, 8, 5, 9, 3, 2, 5, 2, 3, 5,\n",
       "       3, 6, 2, 9, 4, 8, 4, 5, 9, 7, 0, 8, 2, 9, 8, 8, 0, 9, 4, 4, 1, 5,\n",
       "       1, 4, 8, 7, 3, 3, 0, 0, 5, 4, 8, 5, 7, 0, 0, 6, 3, 6, 0, 9, 5, 7,\n",
       "       0, 4, 1, 3, 7, 0, 3, 4, 9, 3, 2, 3, 9, 2, 2, 5, 6, 8, 2, 4, 1, 4,\n",
       "       6, 4, 2, 0, 7, 8, 2, 5, 0, 6, 1, 1, 7, 1, 6, 1, 5, 1, 8, 6, 6, 7,\n",
       "       6, 3, 3, 1, 5, 9, 3, 1, 8, 7, 3, 7, 3, 0, 8, 8, 0, 7, 3, 1, 5, 3,\n",
       "       0, 0, 1, 5, 7, 8, 7, 7, 0, 9, 9, 0, 2, 4, 4, 7, 4, 1, 3, 4, 7, 3,\n",
       "       7, 5, 5, 1, 6, 4, 3, 7, 8, 2, 2, 4, 6, 8, 1, 0, 9, 1, 7, 0, 6, 8,\n",
       "       5, 3, 1, 7, 5, 4, 7, 2, 0, 7, 2, 1, 4, 8, 5, 0, 8, 1, 4, 2, 4, 2,\n",
       "       3, 1, 4, 0, 2, 8, 6, 6, 3, 8, 2, 7, 8, 9, 3, 7, 5, 7, 8, 2, 1, 1,\n",
       "       2, 9, 4, 9, 5, 7, 7, 5, 2, 1, 9, 9, 5, 2, 6, 0, 0, 3, 4, 4, 3, 3,\n",
       "       1, 5, 3, 4, 9, 6, 7, 9, 2, 0, 4, 2, 8, 3, 8, 3, 4, 9, 0, 2, 0, 5,\n",
       "       4, 8, 7, 4, 6, 5, 3, 1, 5, 7, 9, 0, 7, 1, 2, 0, 5, 5, 4, 1, 2, 2,\n",
       "       9, 8, 1, 0, 7, 0, 2, 1, 8, 7, 2, 0, 7, 3, 1, 1, 6, 2, 4, 8, 2, 1,\n",
       "       5, 5, 8, 2, 6, 9, 3, 3, 0, 9, 7, 3, 3, 7, 2, 9, 3, 1, 1, 3, 6, 2,\n",
       "       4, 0, 5, 7, 5, 4, 3, 4, 9, 1, 2, 6, 9, 6, 1, 2, 2, 2])"
      ]
     },
     "execution_count": 99,
     "metadata": {},
     "output_type": "execute_result"
    }
   ],
   "source": [
    "%time my_clf.predict(X_test)"
   ]
  },
  {
   "cell_type": "code",
   "execution_count": 100,
   "metadata": {},
   "outputs": [
    {
     "name": "stdout",
     "output_type": "stream",
     "text": [
      "CPU times: user 5.08 s, sys: 596 ms, total: 5.68 s\n",
      "Wall time: 1.97 s\n"
     ]
    },
    {
     "data": {
      "text/plain": [
       "array([[0., 0., 0., ..., 0., 0., 0.],\n",
       "       [0., 0., 0., ..., 1., 0., 0.],\n",
       "       [0., 0., 1., ..., 0., 0., 0.],\n",
       "       ...,\n",
       "       [0., 0., 1., ..., 0., 0., 0.],\n",
       "       [0., 0., 1., ..., 0., 0., 0.],\n",
       "       [0., 0., 1., ..., 0., 0., 0.]])"
      ]
     },
     "execution_count": 100,
     "metadata": {},
     "output_type": "execute_result"
    }
   ],
   "source": [
    "%time clf.predict_proba(X_test)"
   ]
  },
  {
   "cell_type": "code",
   "execution_count": 101,
   "metadata": {},
   "outputs": [
    {
     "name": "stdout",
     "output_type": "stream",
     "text": [
      "CPU times: user 5.16 s, sys: 516 ms, total: 5.68 s\n",
      "Wall time: 1.98 s\n"
     ]
    },
    {
     "data": {
      "text/plain": [
       "array([[0., 0., 0., ..., 0., 0., 0.],\n",
       "       [0., 0., 0., ..., 1., 0., 0.],\n",
       "       [0., 0., 1., ..., 0., 0., 0.],\n",
       "       ...,\n",
       "       [0., 0., 1., ..., 0., 0., 0.],\n",
       "       [0., 0., 1., ..., 0., 0., 0.],\n",
       "       [0., 0., 1., ..., 0., 0., 0.]])"
      ]
     },
     "execution_count": 101,
     "metadata": {},
     "output_type": "execute_result"
    }
   ],
   "source": [
    "%time my_clf.predict_proba(X_test)"
   ]
  },
  {
   "cell_type": "code",
   "execution_count": 102,
   "metadata": {},
   "outputs": [
    {
     "data": {
      "text/plain": [
       "0.9642857142857143"
      ]
     },
     "execution_count": 102,
     "metadata": {},
     "output_type": "execute_result"
    }
   ],
   "source": [
    "clf.score(X_test, y_test)"
   ]
  },
  {
   "cell_type": "code",
   "execution_count": 103,
   "metadata": {},
   "outputs": [
    {
     "data": {
      "text/plain": [
       "0.9642857142857143"
      ]
     },
     "execution_count": 103,
     "metadata": {},
     "output_type": "execute_result"
    }
   ],
   "source": [
    "my_clf.score(X_test, y_test)"
   ]
  },
  {
   "cell_type": "markdown",
   "metadata": {},
   "source": [
    "Задание 4"
   ]
  },
  {
   "cell_type": "code",
   "execution_count": 104,
   "metadata": {},
   "outputs": [],
   "source": [
    "clf = KNeighborsClassifier(n_neighbors=2, algorithm='kd_tree')\n",
    "my_clf = MyKNeighborsClassifier(n_neighbors=2, algorithm='kd_tree')"
   ]
  },
  {
   "cell_type": "code",
   "execution_count": 105,
   "metadata": {},
   "outputs": [],
   "source": [
    "X_train, X_test, y_train, y_test = train_test_split(mnist.data, mnist.target, test_size=0.01, stratify=mnist.target)"
   ]
  },
  {
   "cell_type": "code",
   "execution_count": 106,
   "metadata": {},
   "outputs": [
    {
     "name": "stdout",
     "output_type": "stream",
     "text": [
      "CPU times: user 39.2 s, sys: 184 ms, total: 39.4 s\n",
      "Wall time: 39.3 s\n"
     ]
    },
    {
     "data": {
      "text/plain": [
       "KNeighborsClassifier(algorithm='kd_tree', leaf_size=30, metric='minkowski',\n",
       "           metric_params=None, n_jobs=None, n_neighbors=2, p=2,\n",
       "           weights='uniform')"
      ]
     },
     "execution_count": 106,
     "metadata": {},
     "output_type": "execute_result"
    }
   ],
   "source": [
    "%time clf.fit(X_train, y_train)"
   ]
  },
  {
   "cell_type": "code",
   "execution_count": 107,
   "metadata": {},
   "outputs": [
    {
     "name": "stdout",
     "output_type": "stream",
     "text": [
      "CPU times: user 36.8 s, sys: 204 ms, total: 37 s\n",
      "Wall time: 36.9 s\n"
     ]
    }
   ],
   "source": [
    "%time my_clf.fit(X_train, y_train)"
   ]
  },
  {
   "cell_type": "code",
   "execution_count": 108,
   "metadata": {},
   "outputs": [
    {
     "name": "stdout",
     "output_type": "stream",
     "text": [
      "CPU times: user 1min 12s, sys: 2 µs, total: 1min 12s\n",
      "Wall time: 1min 12s\n"
     ]
    },
    {
     "data": {
      "text/plain": [
       "array([3., 9., 2., 3., 7., 6., 8., 8., 5., 0., 1., 2., 7., 6., 5., 5., 2.,\n",
       "       1., 1., 8., 1., 8., 8., 3., 1., 4., 7., 8., 8., 9., 9., 3., 7., 4.,\n",
       "       6., 4., 5., 3., 3., 6., 6., 1., 3., 5., 8., 1., 1., 4., 7., 9., 6.,\n",
       "       6., 2., 4., 9., 8., 8., 3., 2., 6., 7., 8., 4., 5., 0., 7., 8., 7.,\n",
       "       3., 4., 7., 3., 4., 8., 6., 6., 8., 0., 3., 0., 7., 9., 9., 3., 5.,\n",
       "       1., 1., 4., 9., 0., 1., 4., 6., 7., 6., 6., 2., 1., 2., 9., 3., 1.,\n",
       "       2., 0., 2., 8., 1., 9., 8., 1., 4., 9., 6., 2., 1., 6., 5., 5., 4.,\n",
       "       0., 6., 7., 5., 6., 2., 2., 4., 2., 7., 8., 5., 8., 7., 0., 5., 7.,\n",
       "       9., 7., 1., 9., 2., 4., 3., 5., 0., 3., 3., 7., 0., 6., 2., 4., 6.,\n",
       "       3., 0., 5., 3., 2., 5., 1., 0., 0., 3., 7., 3., 7., 4., 5., 2., 6.,\n",
       "       3., 0., 0., 8., 3., 4., 2., 1., 4., 5., 0., 9., 1., 0., 6., 6., 4.,\n",
       "       6., 8., 1., 5., 5., 6., 4., 2., 0., 6., 1., 2., 2., 9., 9., 6., 9.,\n",
       "       2., 6., 8., 0., 7., 0., 2., 7., 1., 2., 0., 4., 1., 8., 9., 5., 2.,\n",
       "       5., 5., 2., 9., 1., 4., 5., 3., 8., 2., 7., 4., 3., 8., 3., 1., 5.,\n",
       "       4., 7., 1., 9., 2., 2., 3., 9., 3., 8., 2., 0., 8., 3., 8., 7., 4.,\n",
       "       1., 3., 7., 0., 7., 3., 2., 1., 3., 9., 4., 4., 4., 8., 7., 2., 1.,\n",
       "       8., 1., 8., 2., 1., 6., 0., 5., 4., 0., 6., 6., 7., 8., 3., 3., 2.,\n",
       "       9., 8., 7., 4., 3., 4., 5., 1., 5., 9., 0., 9., 4., 5., 1., 8., 6.,\n",
       "       0., 5., 0., 0., 4., 1., 2., 3., 6., 8., 7., 3., 5., 9., 1., 5., 1.,\n",
       "       7., 6., 7., 2., 0., 6., 8., 4., 8., 6., 7., 2., 3., 6., 1., 9., 9.,\n",
       "       3., 2., 9., 9., 5., 3., 4., 2., 7., 9., 1., 5., 4., 7., 1., 7., 4.,\n",
       "       3., 2., 4., 6., 6., 3., 5., 4., 7., 0., 4., 1., 6., 8., 0., 0., 5.,\n",
       "       6., 5., 1., 9., 6., 3., 9., 7., 6., 3., 7., 5., 9., 2., 1., 5., 7.,\n",
       "       5., 8., 9., 6., 9., 0., 5., 6., 5., 0., 3., 7., 2., 6., 7., 2., 9.,\n",
       "       4., 0., 1., 4., 3., 0., 9., 2., 4., 9., 1., 8., 9., 0., 5., 6., 7.,\n",
       "       9., 9., 4., 0., 9., 4., 8., 2., 8., 4., 7., 1., 7., 9., 4., 8., 0.,\n",
       "       2., 6., 0., 4., 5., 8., 8., 7., 4., 2., 0., 5., 2., 5., 3., 5., 0.,\n",
       "       7., 1., 8., 4., 0., 7., 1., 0., 9., 0., 7., 7., 0., 8., 8., 2., 9.,\n",
       "       7., 3., 3., 5., 0., 1., 5., 8., 2., 7., 7., 1., 3., 1., 4., 6., 6.,\n",
       "       6., 2., 2., 3., 7., 4., 1., 1., 9., 3., 4., 5., 0., 7., 9., 4., 2.,\n",
       "       2., 5., 4., 3., 2., 1., 3., 0., 7., 7., 9., 1., 0., 4., 7., 3., 1.,\n",
       "       1., 0., 3., 6., 2., 2., 5., 4., 1., 4., 1., 5., 4., 6., 8., 2., 4.,\n",
       "       3., 9., 7., 9., 4., 1., 3., 1., 3., 7., 6., 6., 7., 9., 9., 0., 3.,\n",
       "       1., 7., 9., 1., 7., 4., 8., 6., 5., 9., 8., 5., 7., 7., 5., 4., 1.,\n",
       "       1., 0., 8., 2., 8., 5., 5., 3., 1., 9., 1., 0., 6., 0., 4., 7., 1.,\n",
       "       6., 6., 5., 8., 0., 4., 9., 2., 6., 1., 0., 1., 1., 4., 8., 1., 1.,\n",
       "       7., 2., 2., 6., 7., 1., 4., 0., 3., 2., 8., 1., 7., 3., 6., 5., 8.,\n",
       "       7., 3., 6., 5., 5., 0., 0., 7., 9., 9., 0., 8., 7., 0., 7., 1., 7.,\n",
       "       1., 9., 9., 1., 4., 8., 9., 4., 0., 2., 3., 3., 9., 0., 3., 6., 0.,\n",
       "       2., 2., 0., 8., 2., 9., 7., 2., 6., 2., 1., 9., 3., 1., 5., 3., 5.,\n",
       "       5., 6., 8., 1., 2., 3., 6., 3., 3., 1., 6., 0., 3., 4., 1., 0., 7.,\n",
       "       4., 0., 1.])"
      ]
     },
     "execution_count": 108,
     "metadata": {},
     "output_type": "execute_result"
    }
   ],
   "source": [
    "%time clf.predict(X_test)"
   ]
  },
  {
   "cell_type": "code",
   "execution_count": 109,
   "metadata": {},
   "outputs": [
    {
     "name": "stdout",
     "output_type": "stream",
     "text": [
      "CPU times: user 1min 1s, sys: 3.83 ms, total: 1min 1s\n",
      "Wall time: 1min 1s\n"
     ]
    },
    {
     "data": {
      "text/plain": [
       "array([3, 9, 2, 3, 7, 6, 8, 8, 5, 0, 1, 2, 7, 6, 5, 5, 2, 1, 1, 8, 1, 8,\n",
       "       8, 3, 1, 4, 7, 8, 8, 9, 9, 3, 7, 4, 6, 4, 5, 3, 3, 6, 6, 1, 3, 5,\n",
       "       8, 1, 1, 4, 7, 9, 6, 6, 2, 4, 9, 8, 8, 3, 2, 6, 7, 8, 4, 5, 0, 7,\n",
       "       8, 7, 3, 4, 7, 3, 4, 8, 6, 6, 8, 0, 3, 0, 7, 9, 9, 3, 5, 1, 1, 4,\n",
       "       9, 0, 1, 4, 6, 7, 6, 6, 2, 1, 2, 9, 3, 1, 2, 0, 2, 8, 1, 9, 8, 1,\n",
       "       4, 9, 6, 2, 1, 6, 5, 5, 4, 0, 6, 7, 5, 6, 2, 2, 4, 2, 7, 8, 5, 8,\n",
       "       7, 0, 5, 7, 9, 7, 1, 9, 2, 4, 3, 5, 0, 3, 3, 7, 0, 6, 2, 4, 6, 3,\n",
       "       0, 5, 3, 2, 5, 1, 0, 0, 3, 7, 3, 7, 4, 5, 2, 6, 3, 0, 0, 8, 3, 4,\n",
       "       2, 1, 4, 5, 0, 9, 1, 0, 6, 6, 4, 6, 8, 1, 5, 5, 6, 4, 2, 0, 6, 1,\n",
       "       2, 2, 9, 9, 6, 9, 2, 6, 8, 0, 7, 0, 2, 7, 1, 2, 0, 4, 1, 8, 9, 5,\n",
       "       2, 5, 5, 2, 9, 1, 4, 5, 3, 8, 2, 7, 4, 3, 8, 3, 1, 5, 4, 7, 1, 9,\n",
       "       2, 2, 3, 9, 3, 8, 2, 0, 8, 3, 8, 7, 4, 1, 3, 7, 0, 7, 3, 2, 1, 3,\n",
       "       9, 4, 4, 4, 8, 7, 2, 1, 8, 1, 8, 2, 1, 6, 0, 5, 4, 0, 6, 6, 7, 8,\n",
       "       3, 3, 2, 9, 8, 7, 4, 3, 4, 5, 1, 5, 9, 0, 9, 4, 5, 1, 8, 6, 0, 5,\n",
       "       0, 0, 4, 1, 2, 3, 6, 8, 7, 3, 5, 9, 1, 5, 1, 7, 6, 7, 2, 0, 6, 8,\n",
       "       4, 8, 6, 7, 2, 3, 6, 1, 9, 9, 3, 2, 9, 9, 5, 3, 4, 2, 7, 9, 1, 5,\n",
       "       4, 7, 1, 7, 4, 3, 2, 4, 6, 6, 3, 5, 4, 7, 0, 4, 1, 6, 8, 0, 0, 5,\n",
       "       6, 5, 1, 9, 6, 3, 9, 7, 6, 3, 7, 5, 9, 2, 1, 5, 7, 5, 8, 9, 6, 9,\n",
       "       0, 5, 6, 5, 0, 3, 7, 2, 6, 7, 2, 9, 4, 0, 1, 4, 3, 0, 9, 2, 4, 9,\n",
       "       1, 8, 9, 0, 5, 6, 7, 9, 9, 4, 0, 9, 4, 8, 2, 8, 4, 7, 1, 7, 9, 4,\n",
       "       8, 0, 2, 6, 0, 4, 5, 8, 8, 7, 4, 2, 0, 5, 2, 5, 3, 5, 0, 7, 1, 8,\n",
       "       4, 0, 7, 1, 0, 9, 0, 7, 7, 0, 8, 8, 2, 9, 7, 3, 3, 5, 0, 1, 5, 8,\n",
       "       2, 7, 7, 1, 3, 1, 4, 6, 6, 6, 2, 2, 3, 7, 4, 1, 1, 9, 3, 4, 5, 0,\n",
       "       7, 9, 4, 2, 2, 5, 4, 3, 2, 1, 3, 0, 7, 7, 9, 1, 0, 4, 7, 3, 1, 1,\n",
       "       0, 3, 6, 2, 2, 5, 4, 1, 4, 1, 5, 4, 6, 8, 2, 4, 3, 9, 7, 9, 4, 1,\n",
       "       3, 1, 3, 7, 6, 6, 7, 9, 9, 0, 3, 1, 7, 9, 1, 7, 4, 8, 6, 5, 9, 8,\n",
       "       5, 7, 7, 5, 4, 1, 1, 0, 8, 2, 8, 5, 5, 3, 1, 9, 1, 0, 6, 0, 4, 7,\n",
       "       1, 6, 6, 5, 8, 0, 4, 9, 2, 6, 1, 0, 1, 1, 4, 8, 1, 1, 7, 2, 2, 6,\n",
       "       7, 1, 4, 0, 3, 2, 8, 1, 7, 3, 6, 5, 8, 7, 3, 6, 5, 5, 0, 0, 7, 9,\n",
       "       9, 0, 8, 7, 0, 7, 1, 7, 1, 9, 9, 1, 4, 8, 9, 4, 0, 2, 3, 3, 9, 0,\n",
       "       3, 6, 0, 2, 2, 0, 8, 2, 9, 7, 2, 6, 2, 1, 9, 3, 1, 5, 3, 5, 5, 6,\n",
       "       8, 1, 2, 3, 6, 3, 3, 1, 6, 0, 3, 4, 1, 0, 7, 4, 0, 1])"
      ]
     },
     "execution_count": 109,
     "metadata": {},
     "output_type": "execute_result"
    }
   ],
   "source": [
    "%time my_clf.predict(X_test)"
   ]
  },
  {
   "cell_type": "code",
   "execution_count": 110,
   "metadata": {},
   "outputs": [
    {
     "name": "stdout",
     "output_type": "stream",
     "text": [
      "CPU times: user 1min 13s, sys: 27.7 ms, total: 1min 13s\n",
      "Wall time: 1min 13s\n"
     ]
    },
    {
     "data": {
      "text/plain": [
       "array([[0., 0., 0., ..., 0., 0., 0.],\n",
       "       [0., 0., 0., ..., 0., 0., 1.],\n",
       "       [0., 0., 1., ..., 0., 0., 0.],\n",
       "       ...,\n",
       "       [0., 0., 0., ..., 0., 0., 0.],\n",
       "       [1., 0., 0., ..., 0., 0., 0.],\n",
       "       [0., 1., 0., ..., 0., 0., 0.]])"
      ]
     },
     "execution_count": 110,
     "metadata": {},
     "output_type": "execute_result"
    }
   ],
   "source": [
    "%time clf.predict_proba(X_test)"
   ]
  },
  {
   "cell_type": "code",
   "execution_count": 78,
   "metadata": {},
   "outputs": [
    {
     "name": "stdout",
     "output_type": "stream",
     "text": [
      "CPU times: user 1min 1s, sys: 3.51 ms, total: 1min 1s\n",
      "Wall time: 1min 1s\n"
     ]
    },
    {
     "data": {
      "text/plain": [
       "array([[0., 0., 0., ..., 0., 0., 0.],\n",
       "       [0., 1., 0., ..., 0., 0., 0.],\n",
       "       [0., 0., 0., ..., 0., 1., 0.],\n",
       "       ...,\n",
       "       [0., 0., 0., ..., 1., 0., 0.],\n",
       "       [0., 0., 0., ..., 0., 0., 1.],\n",
       "       [0., 0., 0., ..., 0., 0., 0.]])"
      ]
     },
     "execution_count": 78,
     "metadata": {},
     "output_type": "execute_result"
    }
   ],
   "source": [
    "%time my_clf.predict_proba(X_test)"
   ]
  },
  {
   "cell_type": "code",
   "execution_count": 79,
   "metadata": {},
   "outputs": [
    {
     "data": {
      "text/plain": [
       "0.97"
      ]
     },
     "execution_count": 79,
     "metadata": {},
     "output_type": "execute_result"
    }
   ],
   "source": [
    "clf.score(X_test, y_test)"
   ]
  },
  {
   "cell_type": "code",
   "execution_count": 80,
   "metadata": {},
   "outputs": [
    {
     "data": {
      "text/plain": [
       "0.97"
      ]
     },
     "execution_count": 80,
     "metadata": {},
     "output_type": "execute_result"
    }
   ],
   "source": [
    "my_clf.score(X_test, y_test)"
   ]
  },
  {
   "cell_type": "markdown",
   "metadata": {},
   "source": [
    "Задание 5"
   ]
  },
  {
   "cell_type": "code",
   "execution_count": null,
   "metadata": {},
   "outputs": [],
   "source": [
    "# seaborn \n",
    "# библиотека для визуализации статистических данных\n",
    "\n",
    "# matplotlib\n",
    "# библиотека для построения графиков\n",
    "\n",
    "# train_test_split\n",
    "# функция, разделяющая данные на тренировочную и тестовую части\n",
    "\n",
    "# Pipelin%load_ext e (from sklearn.pipeline import Pipeline)\n",
    "# Абстракция, позволяющая объединить несколько последовательных действий,\n",
    "# где каждое последующее принимает на вход результат предыдущего\n",
    "\n",
    "# StandardScaler (from sklearn.preprocessing import StandardScaler)\n",
    "# Приводим среднее и дисперсию выборки к (0, 1)\n",
    "\n",
    "# ClassifierMixin\n",
    "# Базовый класс для классификатора\n",
    "\n",
    "# NeighborsBase\n",
    "# Базовый класс для определения ближайших соседей\n",
    "\n",
    "# KNeighborsMixin\n",
    "# Базовый класс для поиска соседей\n",
    "\n",
    "# SupervisedIntegerMixin\n",
    "# Базовый класс для обучения модели"
   ]
  }
 ],
 "metadata": {
  "kernelspec": {
   "display_name": "Python 3",
   "language": "python",
   "name": "python3"
  },
  "language_info": {
   "codemirror_mode": {
    "name": "ipython",
    "version": 3
   },
   "file_extension": ".py",
   "mimetype": "text/x-python",
   "name": "python",
   "nbconvert_exporter": "python",
   "pygments_lexer": "ipython3",
   "version": "3.7.1"
  }
 },
 "nbformat": 4,
 "nbformat_minor": 2
}
